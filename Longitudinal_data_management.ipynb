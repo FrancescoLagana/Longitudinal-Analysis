{
 "cells": [
  {
   "cell_type": "markdown",
   "metadata": {},
   "source": [
    "# LABB practical tutorial - analysis of completion and drop-out"
   ]
  },
  {
   "cell_type": "markdown",
   "metadata": {},
   "source": [
    "# Introduction"
   ]
  },
  {
   "cell_type": "markdown",
   "metadata": {},
   "source": [
    "In the practical part we will answer the following questions:\n",
    "\n",
    "- What is the completion rate in upper secondary education?\n",
    "- How does it vary with the education chosen at entry in upper secondary education?\n",
    "- Which types of students have a higher risk of dropping out?\n",
    "\n",
    "We will do this by defining the pertaining events for a completion rate:\n",
    "\n",
    "- Entry in upper secondary education\n",
    "- First certificate in upper secondary education\n",
    "\n",
    "We will join these two events in order to identify a starting population (all the entrants) and a final population (those who got a first certificate).\n",
    "\n",
    "For the students who did not complete the education we need to know:\n",
    "\n",
    "- How many are still in education (right censoring)\n",
    "- How many left education before 2016 (drop-out).\n",
    "\n",
    "By this procedure you will understand:\n",
    "\n",
    "- How to build the base of a (Hierarchical) state file, when you need to build one for your needs\n",
    "- A better use of the existing Hierarchical state files.\n",
    "\n"
   ]
  },
  {
   "cell_type": "markdown",
   "metadata": {},
   "source": [
    "## Setting up the data"
   ]
  },
  {
   "cell_type": "markdown",
   "metadata": {
    "ExecuteTime": {
     "end_time": "2019-03-28T19:24:27.181735Z",
     "start_time": "2019-03-28T19:24:27.164Z"
    }
   },
   "source": [
    "We start by loading the simulated data file into R:"
   ]
  },
  {
   "cell_type": "code",
   "execution_count": 44,
   "metadata": {
    "ExecuteTime": {
     "end_time": "2019-03-28T19:24:32.438272Z",
     "start_time": "2019-03-28T19:24:32.192Z"
    }
   },
   "outputs": [],
   "source": [
    "# load packages:\n",
    "library(magrittr) # necessary\n",
    "library(dplyr)    # necessary\n",
    "library(tidyr)    # necessary\n",
    "library(sqldf)    # necessary\n",
    "library(knitr)    # optional (just for output)\n",
    "library(kableExtra) # optional (just for output)\n",
    "\n",
    "# load and transform the data into a dataframe:\n",
    "d <- readRDS(file = \"LongFile_Simulated_2016.rds\")\n",
    "d <- data.frame(d)"
   ]
  },
  {
   "cell_type": "code",
   "execution_count": 45,
   "metadata": {
    "ExecuteTime": {
     "end_time": "2019-03-28T19:24:34.284160Z",
     "start_time": "2019-03-28T19:24:34.180Z"
    }
   },
   "outputs": [
    {
     "data": {
      "text/plain": [
       "\n",
       "NAVS13 \n",
       "442201 "
      ]
     },
     "metadata": {},
     "output_type": "display_data"
    }
   ],
   "source": [
    "dat <- d %>% \n",
    "  filter(lernidcat ==\"NAVS13\" & dformflag != \"Double student record not selected\") %>% \n",
    "  mutate(dformflag = factor(dformflag ))\n",
    "\n",
    "table(dat$lernidcat) "
   ]
  },
  {
   "cell_type": "code",
   "execution_count": 46,
   "metadata": {
    "ExecuteTime": {
     "end_time": "2019-03-28T19:24:35.843323Z",
     "start_time": "2019-03-28T19:24:35.795Z"
    }
   },
   "outputs": [
    {
     "data": {
      "text/plain": [
       "\n",
       "                Not applicable Double student record selected \n",
       "                         62694                           2702 \n",
       "         Unique student record \n",
       "                        376805 "
      ]
     },
     "metadata": {},
     "output_type": "display_data"
    }
   ],
   "source": [
    "table(dat$dformflag)"
   ]
  },
  {
   "cell_type": "markdown",
   "metadata": {},
   "source": [
    "# Define the events of interest"
   ]
  },
  {
   "cell_type": "markdown",
   "metadata": {
    "ExecuteTime": {
     "end_time": "2019-03-28T18:48:32.887600Z",
     "start_time": "2019-03-28T18:48:32.850Z"
    }
   },
   "source": [
    "We are interested in the two events:\n",
    "- Entry in the upper secondary education\n",
    "- The first certificate in upper secondary education\n",
    "\n"
   ]
  },
  {
   "cell_type": "markdown",
   "metadata": {},
   "source": [
    "## Entry in the upper secondary education"
   ]
  },
  {
   "cell_type": "markdown",
   "metadata": {},
   "source": [
    "The event is identified as the first record in the upper secondary education:"
   ]
  },
  {
   "cell_type": "code",
   "execution_count": 8,
   "metadata": {
    "ExecuteTime": {
     "end_time": "2019-03-28T18:49:45.880681Z",
     "start_time": "2019-03-28T18:49:36.963Z"
    }
   },
   "outputs": [],
   "source": [
    "fsii_entry_ <- dat %>%\n",
    "              arrange(vn, e_year) %>% # We take the first event of the year\n",
    "              group_by(vn) %>%\n",
    "              filter(e_eventType == \"Student\", # We are interested VET and General education\n",
    "                     e_educType3 %in% c(\"Two years VET\", \n",
    "                                        \"Three years VET\",\n",
    "                                        \"Four years VET\",\n",
    "                                        \"Specialized schools\",\n",
    "                                        \"Baccalaureate schools\")) %>% \n",
    "              select(vn, e_date, e_year, e_educType3, counter) %>%\n",
    "              mutate(first_record = row_number()==1)"
   ]
  },
  {
   "cell_type": "code",
   "execution_count": 9,
   "metadata": {
    "ExecuteTime": {
     "end_time": "2019-03-28T19:03:44.453232Z",
     "start_time": "2019-03-28T19:03:44.416Z"
    }
   },
   "outputs": [
    {
     "data": {
      "text/html": [
       "<table>\n",
       "<thead><tr><th scope=col>vn</th><th scope=col>e_date</th><th scope=col>e_year</th><th scope=col>e_educType3</th><th scope=col>counter</th><th scope=col>first_record</th></tr></thead>\n",
       "<tbody>\n",
       "\t<tr><td>1            </td><td>2011-08-15   </td><td>2011         </td><td>Two years VET</td><td>352879       </td><td> TRUE        </td></tr>\n",
       "\t<tr><td>1            </td><td>2012-08-15   </td><td>2012         </td><td>Two years VET</td><td>352914       </td><td>FALSE        </td></tr>\n",
       "\t<tr><td>2            </td><td>2011-08-15   </td><td>2011         </td><td>Two years VET</td><td> 15743       </td><td> TRUE        </td></tr>\n",
       "\t<tr><td>2            </td><td>2012-08-15   </td><td>2012         </td><td>Two years VET</td><td> 15776       </td><td>FALSE        </td></tr>\n",
       "\t<tr><td>3            </td><td>2011-08-15   </td><td>2011         </td><td>Two years VET</td><td>331977       </td><td> TRUE        </td></tr>\n",
       "\t<tr><td>3            </td><td>2012-08-15   </td><td>2012         </td><td>Two years VET</td><td>331943       </td><td>FALSE        </td></tr>\n",
       "</tbody>\n",
       "</table>\n"
      ],
      "text/latex": [
       "\\begin{tabular}{r|llllll}\n",
       " vn & e\\_date & e\\_year & e\\_educType3 & counter & first\\_record\\\\\n",
       "\\hline\n",
       "\t 1             & 2011-08-15    & 2011          & Two years VET & 352879        &  TRUE        \\\\\n",
       "\t 1             & 2012-08-15    & 2012          & Two years VET & 352914        & FALSE        \\\\\n",
       "\t 2             & 2011-08-15    & 2011          & Two years VET &  15743        &  TRUE        \\\\\n",
       "\t 2             & 2012-08-15    & 2012          & Two years VET &  15776        & FALSE        \\\\\n",
       "\t 3             & 2011-08-15    & 2011          & Two years VET & 331977        &  TRUE        \\\\\n",
       "\t 3             & 2012-08-15    & 2012          & Two years VET & 331943        & FALSE        \\\\\n",
       "\\end{tabular}\n"
      ],
      "text/markdown": [
       "\n",
       "vn | e_date | e_year | e_educType3 | counter | first_record | \n",
       "|---|---|---|---|---|---|\n",
       "| 1             | 2011-08-15    | 2011          | Two years VET | 352879        |  TRUE         | \n",
       "| 1             | 2012-08-15    | 2012          | Two years VET | 352914        | FALSE         | \n",
       "| 2             | 2011-08-15    | 2011          | Two years VET |  15743        |  TRUE         | \n",
       "| 2             | 2012-08-15    | 2012          | Two years VET |  15776        | FALSE         | \n",
       "| 3             | 2011-08-15    | 2011          | Two years VET | 331977        |  TRUE         | \n",
       "| 3             | 2012-08-15    | 2012          | Two years VET | 331943        | FALSE         | \n",
       "\n",
       "\n"
      ],
      "text/plain": [
       "  vn e_date     e_year e_educType3   counter first_record\n",
       "1 1  2011-08-15 2011   Two years VET 352879   TRUE       \n",
       "2 1  2012-08-15 2012   Two years VET 352914  FALSE       \n",
       "3 2  2011-08-15 2011   Two years VET  15743   TRUE       \n",
       "4 2  2012-08-15 2012   Two years VET  15776  FALSE       \n",
       "5 3  2011-08-15 2011   Two years VET 331977   TRUE       \n",
       "6 3  2012-08-15 2012   Two years VET 331943  FALSE       "
      ]
     },
     "metadata": {},
     "output_type": "display_data"
    }
   ],
   "source": [
    "head(fsii_entry_)"
   ]
  },
  {
   "cell_type": "markdown",
   "metadata": {},
   "source": [
    "We can now select all the first entry in upper secondary:"
   ]
  },
  {
   "cell_type": "code",
   "execution_count": 10,
   "metadata": {
    "ExecuteTime": {
     "end_time": "2019-03-28T19:04:23.678632Z",
     "start_time": "2019-03-28T19:04:19.547Z"
    }
   },
   "outputs": [],
   "source": [
    "fsii_entry <- fsii_entry_ %>%\n",
    "              filter(first_record == TRUE) %>%\n",
    "              arrange(vn, e_year) %>%\n",
    "              group_by(vn) %>%\n",
    "              filter(row_number()==1)"
   ]
  },
  {
   "cell_type": "markdown",
   "metadata": {
    "ExecuteTime": {
     "end_time": "2019-03-28T19:04:39.134625Z",
     "start_time": "2019-03-28T19:04:39.114Z"
    }
   },
   "source": [
    "Exploration: You may want to explore the distribution of the entrants:"
   ]
  },
  {
   "cell_type": "code",
   "execution_count": 12,
   "metadata": {
    "ExecuteTime": {
     "end_time": "2019-03-28T19:05:03.848297Z",
     "start_time": "2019-03-28T19:05:03.781Z"
    }
   },
   "outputs": [
    {
     "data": {
      "text/html": [
       "<table>\n",
       "<thead><tr><th></th><th scope=col>2011</th></tr></thead>\n",
       "<tbody>\n",
       "\t<tr><th scope=row>Two years VET</th><td> 3515</td></tr>\n",
       "\t<tr><th scope=row>Three years VET</th><td>37947</td></tr>\n",
       "\t<tr><th scope=row>Four years VET</th><td>13560</td></tr>\n",
       "\t<tr><th scope=row>Specialized schools</th><td> 3641</td></tr>\n",
       "\t<tr><th scope=row>Baccalaureate schools</th><td>19763</td></tr>\n",
       "\t<tr><th scope=row>Sum</th><td>78426</td></tr>\n",
       "</tbody>\n",
       "</table>\n"
      ],
      "text/latex": [
       "\\begin{tabular}{r|l}\n",
       "  & 2011\\\\\n",
       "\\hline\n",
       "\tTwo years VET &  3515\\\\\n",
       "\tThree years VET & 37947\\\\\n",
       "\tFour years VET & 13560\\\\\n",
       "\tSpecialized schools &  3641\\\\\n",
       "\tBaccalaureate schools & 19763\\\\\n",
       "\tSum & 78426\\\\\n",
       "\\end{tabular}\n"
      ],
      "text/markdown": [
       "\n",
       "| <!--/--> | 2011 | \n",
       "|---|---|---|---|---|---|\n",
       "| Two years VET |  3515 | \n",
       "| Three years VET | 37947 | \n",
       "| Four years VET | 13560 | \n",
       "| Specialized schools |  3641 | \n",
       "| Baccalaureate schools | 19763 | \n",
       "| Sum | 78426 | \n",
       "\n",
       "\n"
      ],
      "text/plain": [
       "                       \n",
       "                        2011 \n",
       "  Two years VET          3515\n",
       "  Three years VET       37947\n",
       "  Four years VET        13560\n",
       "  Specialized schools    3641\n",
       "  Baccalaureate schools 19763\n",
       "  Sum                   78426"
      ]
     },
     "metadata": {},
     "output_type": "display_data"
    }
   ],
   "source": [
    "fsii_entry$e_educType3 <- factor(fsii_entry$e_educType3)\n",
    "addmargins(table(fsii_entry$e_educType3, fsii_entry$e_year), 1)"
   ]
  },
  {
   "cell_type": "markdown",
   "metadata": {},
   "source": [
    "We can see here that we have around 78.000 pupils"
   ]
  },
  {
   "cell_type": "markdown",
   "metadata": {},
   "source": [
    "## The first certificate in upper secondary education"
   ]
  },
  {
   "cell_type": "markdown",
   "metadata": {},
   "source": [
    "We can now define the titles. Here we take the first title of the upper secondary degree:"
   ]
  },
  {
   "cell_type": "code",
   "execution_count": 13,
   "metadata": {
    "ExecuteTime": {
     "end_time": "2019-03-28T19:08:42.504255Z",
     "start_time": "2019-03-28T19:08:35.485Z"
    }
   },
   "outputs": [],
   "source": [
    "fcert <- dat %>%\n",
    "  group_by(vn) %>%\n",
    "  arrange(vn, e_date) %>% # Sort by VN and by date\n",
    "  filter(as.numeric(e_educType3) %in% c(5:9) # Other way to select education\n",
    "         & e_gradecompletion == \"Completed\") %>% # We want only completion records\n",
    "  select(vn, e_year, e_date, e_educType3, counter) %>% # We select only base variables\n",
    "  filter(row_number()==1) # We filter the first record"
   ]
  },
  {
   "cell_type": "markdown",
   "metadata": {},
   "source": [
    "Exploration: When have these titles been obtained?"
   ]
  },
  {
   "cell_type": "code",
   "execution_count": 14,
   "metadata": {
    "ExecuteTime": {
     "end_time": "2019-03-28T19:09:11.440433Z",
     "start_time": "2019-03-28T19:09:11.385Z"
    }
   },
   "outputs": [
    {
     "data": {
      "text/plain": [
       "                       \n",
       "                         2012  2013  2014  2015  2016  2017\n",
       "  Two years VET            14  2633   242   710    16     0\n",
       "  Three years VET           0   179 28114  6025  1139     0\n",
       "  Four years VET            0     0    44 10146  1409   260\n",
       "  Specialized schools       0     1  2248   940    27     0\n",
       "  Baccalaureate schools     0     8 14207  3924   141     0"
      ]
     },
     "metadata": {},
     "output_type": "display_data"
    }
   ],
   "source": [
    "ta1 <- table(factor(fcert$e_educType3), fcert$e_year)\n",
    "\n",
    "ta1 "
   ]
  },
  {
   "cell_type": "code",
   "execution_count": 15,
   "metadata": {
    "ExecuteTime": {
     "end_time": "2019-03-28T19:09:29.152370Z",
     "start_time": "2019-03-28T19:09:29.114Z"
    }
   },
   "outputs": [
    {
     "data": {
      "text/html": [
       "<table>\n",
       "<thead><tr><th></th><th scope=col>2012</th><th scope=col>2013</th><th scope=col>2014</th><th scope=col>2015</th><th scope=col>2016</th><th scope=col>2017</th><th scope=col>Sum</th></tr></thead>\n",
       "<tbody>\n",
       "\t<tr><th scope=row>Two years VET</th><td>0.39 </td><td>72.84</td><td> 6.69</td><td>19.64</td><td> 0.44</td><td>0.00 </td><td>100  </td></tr>\n",
       "\t<tr><th scope=row>Three years VET</th><td>0.00 </td><td> 0.50</td><td>79.29</td><td>16.99</td><td> 3.21</td><td>0.00 </td><td>100  </td></tr>\n",
       "\t<tr><th scope=row>Four years VET</th><td>0.00 </td><td> 0.00</td><td> 0.37</td><td>85.56</td><td>11.88</td><td>2.19 </td><td>100  </td></tr>\n",
       "\t<tr><th scope=row>Specialized schools</th><td>0.00 </td><td> 0.03</td><td>69.90</td><td>29.23</td><td> 0.84</td><td>0.00 </td><td>100  </td></tr>\n",
       "\t<tr><th scope=row>Baccalaureate schools</th><td>0.00 </td><td> 0.04</td><td>77.72</td><td>21.47</td><td> 0.77</td><td>0.00 </td><td>100  </td></tr>\n",
       "</tbody>\n",
       "</table>\n"
      ],
      "text/latex": [
       "\\begin{tabular}{r|lllllll}\n",
       "  & 2012 & 2013 & 2014 & 2015 & 2016 & 2017 & Sum\\\\\n",
       "\\hline\n",
       "\tTwo years VET & 0.39  & 72.84 &  6.69 & 19.64 &  0.44 & 0.00  & 100  \\\\\n",
       "\tThree years VET & 0.00  &  0.50 & 79.29 & 16.99 &  3.21 & 0.00  & 100  \\\\\n",
       "\tFour years VET & 0.00  &  0.00 &  0.37 & 85.56 & 11.88 & 2.19  & 100  \\\\\n",
       "\tSpecialized schools & 0.00  &  0.03 & 69.90 & 29.23 &  0.84 & 0.00  & 100  \\\\\n",
       "\tBaccalaureate schools & 0.00  &  0.04 & 77.72 & 21.47 &  0.77 & 0.00  & 100  \\\\\n",
       "\\end{tabular}\n"
      ],
      "text/markdown": [
       "\n",
       "| <!--/--> | 2012 | 2013 | 2014 | 2015 | 2016 | 2017 | Sum | \n",
       "|---|---|---|---|---|\n",
       "| Two years VET | 0.39  | 72.84 |  6.69 | 19.64 |  0.44 | 0.00  | 100   | \n",
       "| Three years VET | 0.00  |  0.50 | 79.29 | 16.99 |  3.21 | 0.00  | 100   | \n",
       "| Four years VET | 0.00  |  0.00 |  0.37 | 85.56 | 11.88 | 2.19  | 100   | \n",
       "| Specialized schools | 0.00  |  0.03 | 69.90 | 29.23 |  0.84 | 0.00  | 100   | \n",
       "| Baccalaureate schools | 0.00  |  0.04 | 77.72 | 21.47 |  0.77 | 0.00  | 100   | \n",
       "\n",
       "\n"
      ],
      "text/plain": [
       "                       \n",
       "                        2012 2013  2014  2015  2016  2017 Sum\n",
       "  Two years VET         0.39 72.84  6.69 19.64  0.44 0.00 100\n",
       "  Three years VET       0.00  0.50 79.29 16.99  3.21 0.00 100\n",
       "  Four years VET        0.00  0.00  0.37 85.56 11.88 2.19 100\n",
       "  Specialized schools   0.00  0.03 69.90 29.23  0.84 0.00 100\n",
       "  Baccalaureate schools 0.00  0.04 77.72 21.47  0.77 0.00 100"
      ]
     },
     "metadata": {},
     "output_type": "display_data"
    }
   ],
   "source": [
    "round(addmargins(prop.table(ta1, 1), 2)*100, 2)  "
   ]
  },
  {
   "cell_type": "markdown",
   "metadata": {},
   "source": [
    "## Define the basefile"
   ]
  },
  {
   "cell_type": "markdown",
   "metadata": {
    "ExecuteTime": {
     "end_time": "2019-03-28T19:10:17.341908Z",
     "start_time": "2019-03-28T19:10:17.322Z"
    }
   },
   "source": [
    "We can now link the entry to the title"
   ]
  },
  {
   "cell_type": "code",
   "execution_count": 18,
   "metadata": {
    "ExecuteTime": {
     "end_time": "2019-03-28T19:10:38.214488Z",
     "start_time": "2019-03-28T19:10:35.287Z"
    }
   },
   "outputs": [],
   "source": [
    "fcert_b <- fcert %>% \n",
    "  select(vn, fcert_e_eductype3 = e_educType3, fcert_counter = counter) # Rename variables for entry in upper secondary edu.\n",
    "\n",
    "fsii_entry_b <- fsii_entry %>%\n",
    "  select(vn, fsii_e_eductype3 = e_educType3, fsii_counter = counter) # ... the same for the tiltes\n",
    "\n",
    "# Left join entry - certificates: \n",
    "eq <- fsii_entry_b %>% \n",
    "  left_join(fcert_b, by = \"vn\") %>% \n",
    "  mutate(\n",
    "    cert = ifelse(!is.na(fcert_e_eductype3), 1, 0) # A dummy variable telling if certificate\n",
    "    )"
   ]
  },
  {
   "cell_type": "code",
   "execution_count": 19,
   "metadata": {
    "ExecuteTime": {
     "end_time": "2019-03-28T19:10:53.247373Z",
     "start_time": "2019-03-28T19:10:53.203Z"
    }
   },
   "outputs": [
    {
     "data": {
      "text/html": [
       "<table>\n",
       "<thead><tr><th scope=col>vn</th><th scope=col>fsii_e_eductype3</th><th scope=col>fsii_counter</th><th scope=col>fcert_e_eductype3</th><th scope=col>fcert_counter</th><th scope=col>cert</th></tr></thead>\n",
       "<tbody>\n",
       "\t<tr><td>1            </td><td>Two years VET</td><td>352879       </td><td>Two years VET</td><td>352397       </td><td>1            </td></tr>\n",
       "\t<tr><td>2            </td><td>Two years VET</td><td> 15743       </td><td>Two years VET</td><td> 15755       </td><td>1            </td></tr>\n",
       "\t<tr><td>3            </td><td>Two years VET</td><td>331977       </td><td>Two years VET</td><td>331868       </td><td>1            </td></tr>\n",
       "\t<tr><td>4            </td><td>Two years VET</td><td>410742       </td><td>Two years VET</td><td>410654       </td><td>1            </td></tr>\n",
       "\t<tr><td>5            </td><td>Two years VET</td><td>182346       </td><td>Two years VET</td><td>182447       </td><td>1            </td></tr>\n",
       "\t<tr><td>6            </td><td>Two years VET</td><td> 52323       </td><td>Two years VET</td><td> 52331       </td><td>1            </td></tr>\n",
       "</tbody>\n",
       "</table>\n"
      ],
      "text/latex": [
       "\\begin{tabular}{r|llllll}\n",
       " vn & fsii\\_e\\_eductype3 & fsii\\_counter & fcert\\_e\\_eductype3 & fcert\\_counter & cert\\\\\n",
       "\\hline\n",
       "\t 1             & Two years VET & 352879        & Two years VET & 352397        & 1            \\\\\n",
       "\t 2             & Two years VET &  15743        & Two years VET &  15755        & 1            \\\\\n",
       "\t 3             & Two years VET & 331977        & Two years VET & 331868        & 1            \\\\\n",
       "\t 4             & Two years VET & 410742        & Two years VET & 410654        & 1            \\\\\n",
       "\t 5             & Two years VET & 182346        & Two years VET & 182447        & 1            \\\\\n",
       "\t 6             & Two years VET &  52323        & Two years VET &  52331        & 1            \\\\\n",
       "\\end{tabular}\n"
      ],
      "text/markdown": [
       "\n",
       "vn | fsii_e_eductype3 | fsii_counter | fcert_e_eductype3 | fcert_counter | cert | \n",
       "|---|---|---|---|---|---|\n",
       "| 1             | Two years VET | 352879        | Two years VET | 352397        | 1             | \n",
       "| 2             | Two years VET |  15743        | Two years VET |  15755        | 1             | \n",
       "| 3             | Two years VET | 331977        | Two years VET | 331868        | 1             | \n",
       "| 4             | Two years VET | 410742        | Two years VET | 410654        | 1             | \n",
       "| 5             | Two years VET | 182346        | Two years VET | 182447        | 1             | \n",
       "| 6             | Two years VET |  52323        | Two years VET |  52331        | 1             | \n",
       "\n",
       "\n"
      ],
      "text/plain": [
       "  vn fsii_e_eductype3 fsii_counter fcert_e_eductype3 fcert_counter cert\n",
       "1 1  Two years VET    352879       Two years VET     352397        1   \n",
       "2 2  Two years VET     15743       Two years VET      15755        1   \n",
       "3 3  Two years VET    331977       Two years VET     331868        1   \n",
       "4 4  Two years VET    410742       Two years VET     410654        1   \n",
       "5 5  Two years VET    182346       Two years VET     182447        1   \n",
       "6 6  Two years VET     52323       Two years VET      52331        1   "
      ]
     },
     "metadata": {},
     "output_type": "display_data"
    }
   ],
   "source": [
    "eq %>%\n",
    "  head() "
   ]
  },
  {
   "cell_type": "markdown",
   "metadata": {},
   "source": [
    "We are now able to compute the completion rate:"
   ]
  },
  {
   "cell_type": "code",
   "execution_count": 20,
   "metadata": {
    "ExecuteTime": {
     "end_time": "2019-03-28T19:11:31.159302Z",
     "start_time": "2019-03-28T19:11:31.037Z"
    }
   },
   "outputs": [
    {
     "data": {
      "text/html": [
       "<table>\n",
       "<thead><tr><th></th><th scope=col>Not.completed</th><th scope=col>Completed</th><th scope=col>Not.completed</th><th scope=col>Completed</th><th scope=col>Sum</th></tr></thead>\n",
       "<tbody>\n",
       "\t<tr><th scope=row>Two years VET</th><td> 487 </td><td> 3028</td><td>13.85</td><td>86.15</td><td>100  </td></tr>\n",
       "\t<tr><th scope=row>Three years VET</th><td>3336 </td><td>34611</td><td> 8.79</td><td>91.21</td><td>100  </td></tr>\n",
       "\t<tr><th scope=row>Four years VET</th><td>1076 </td><td>12484</td><td> 7.94</td><td>92.06</td><td>100  </td></tr>\n",
       "\t<tr><th scope=row>Specialized schools</th><td> 382 </td><td> 3259</td><td>10.49</td><td>89.51</td><td>100  </td></tr>\n",
       "\t<tr><th scope=row>Baccalaureate schools</th><td> 718 </td><td>19045</td><td> 3.63</td><td>96.37</td><td>100  </td></tr>\n",
       "\t<tr><th scope=row>Sum</th><td>5999 </td><td>72427</td><td> 7.65</td><td>92.35</td><td>100  </td></tr>\n",
       "</tbody>\n",
       "</table>\n"
      ],
      "text/latex": [
       "\\begin{tabular}{r|lllll}\n",
       "  & Not.completed & Completed & Not.completed & Completed & Sum\\\\\n",
       "\\hline\n",
       "\tTwo years VET &  487  &  3028 & 13.85 & 86.15 & 100  \\\\\n",
       "\tThree years VET & 3336  & 34611 &  8.79 & 91.21 & 100  \\\\\n",
       "\tFour years VET & 1076  & 12484 &  7.94 & 92.06 & 100  \\\\\n",
       "\tSpecialized schools &  382  &  3259 & 10.49 & 89.51 & 100  \\\\\n",
       "\tBaccalaureate schools &  718  & 19045 &  3.63 & 96.37 & 100  \\\\\n",
       "\tSum & 5999  & 72427 &  7.65 & 92.35 & 100  \\\\\n",
       "\\end{tabular}\n"
      ],
      "text/markdown": [
       "\n",
       "| <!--/--> | Not.completed | Completed | Not.completed | Completed | Sum | \n",
       "|---|---|---|---|---|---|\n",
       "| Two years VET |  487  |  3028 | 13.85 | 86.15 | 100   | \n",
       "| Three years VET | 3336  | 34611 |  8.79 | 91.21 | 100   | \n",
       "| Four years VET | 1076  | 12484 |  7.94 | 92.06 | 100   | \n",
       "| Specialized schools |  382  |  3259 | 10.49 | 89.51 | 100   | \n",
       "| Baccalaureate schools |  718  | 19045 |  3.63 | 96.37 | 100   | \n",
       "| Sum | 5999  | 72427 |  7.65 | 92.35 | 100   | \n",
       "\n",
       "\n"
      ],
      "text/plain": [
       "                      Not.completed Completed Not.completed Completed Sum\n",
       "Two years VET          487           3028     13.85         86.15     100\n",
       "Three years VET       3336          34611      8.79         91.21     100\n",
       "Four years VET        1076          12484      7.94         92.06     100\n",
       "Specialized schools    382           3259     10.49         89.51     100\n",
       "Baccalaureate schools  718          19045      3.63         96.37     100\n",
       "Sum                   5999          72427      7.65         92.35     100"
      ]
     },
     "metadata": {},
     "output_type": "display_data"
    }
   ],
   "source": [
    "completion <- c(\"Not completed\", \"Completed\")\n",
    "basetab <- addmargins(table(factor(eq$fsii_e_eductype3), factor(eq$cert, labels = completion)), 1)\n",
    "\n",
    "eqcab <- basetab %>%\n",
    "  unclass() %>%\n",
    "  data.frame() \n",
    "\n",
    "eqcpr <- round(addmargins(prop.table(basetab, 1)*100, 2), 2) %>%\n",
    "  unclass() %>%\n",
    "  data.frame()\n",
    "\n",
    "cbind(eqcab, eqcpr)"
   ]
  },
  {
   "cell_type": "markdown",
   "metadata": {},
   "source": [
    "# Analysis of drop-out"
   ]
  },
  {
   "cell_type": "markdown",
   "metadata": {},
   "source": [
    "We know how many obtained their first ceritficate.\n",
    "\n",
    "The second question is : how many are still in education and could potentially obtain the certificate? And how many left?\n",
    "\n",
    "In order to do this we will:\n",
    "\n",
    "- select all records for the pupils that did not obtain a certificate.\n",
    "- find them in the long file\n"
   ]
  },
  {
   "cell_type": "code",
   "execution_count": 21,
   "metadata": {
    "ExecuteTime": {
     "end_time": "2019-03-28T19:12:54.168620Z",
     "start_time": "2019-03-28T19:12:52.082Z"
    }
   },
   "outputs": [],
   "source": [
    "# select all records for the pupils that did not obtain a certificate.\n",
    "nocert <- eq %>% filter(cert == 0)\n",
    "\n",
    "# select from the long file all the records that are in the 'nocert' dataset. \n",
    "sjps <- semi_join(x = dat, y = nocert, by =\"vn\")"
   ]
  },
  {
   "cell_type": "markdown",
   "metadata": {},
   "source": [
    "Let’s look at the trajectories in the long file:"
   ]
  },
  {
   "cell_type": "code",
   "execution_count": 22,
   "metadata": {
    "ExecuteTime": {
     "end_time": "2019-03-28T19:13:13.764909Z",
     "start_time": "2019-03-28T19:13:13.735Z"
    }
   },
   "outputs": [
    {
     "data": {
      "text/html": [
       "<table>\n",
       "<thead><tr><th scope=col>vn</th><th scope=col>e_date</th><th scope=col>e_educType3</th><th scope=col>e_gradecompletion</th></tr></thead>\n",
       "<tbody>\n",
       "\t<tr><td>3029                                   </td><td>2010-08-15                             </td><td>Lower secondary (Extended requirements)</td><td>Not applicable                         </td></tr>\n",
       "\t<tr><td>3029                                   </td><td>2011-08-15                             </td><td>Two years VET                          </td><td>Not applicable                         </td></tr>\n",
       "\t<tr><td>3029                                   </td><td>2012-08-15                             </td><td>Two years VET                          </td><td>Not applicable                         </td></tr>\n",
       "\t<tr><td>3029                                   </td><td>2013-08-15                             </td><td>Two years VET                          </td><td>Not applicable                         </td></tr>\n",
       "\t<tr><td>3029                                   </td><td>2014-08-15                             </td><td>Two years VET                          </td><td>Not applicable                         </td></tr>\n",
       "\t<tr><td>3029                                   </td><td>2015-08-15                             </td><td>Two years VET                          </td><td>Not applicable                         </td></tr>\n",
       "</tbody>\n",
       "</table>\n"
      ],
      "text/latex": [
       "\\begin{tabular}{r|llll}\n",
       " vn & e\\_date & e\\_educType3 & e\\_gradecompletion\\\\\n",
       "\\hline\n",
       "\t 3029                                    & 2010-08-15                              & Lower secondary (Extended requirements) & Not applicable                         \\\\\n",
       "\t 3029                                    & 2011-08-15                              & Two years VET                           & Not applicable                         \\\\\n",
       "\t 3029                                    & 2012-08-15                              & Two years VET                           & Not applicable                         \\\\\n",
       "\t 3029                                    & 2013-08-15                              & Two years VET                           & Not applicable                         \\\\\n",
       "\t 3029                                    & 2014-08-15                              & Two years VET                           & Not applicable                         \\\\\n",
       "\t 3029                                    & 2015-08-15                              & Two years VET                           & Not applicable                         \\\\\n",
       "\\end{tabular}\n"
      ],
      "text/markdown": [
       "\n",
       "vn | e_date | e_educType3 | e_gradecompletion | \n",
       "|---|---|---|---|---|---|\n",
       "| 3029                                    | 2010-08-15                              | Lower secondary (Extended requirements) | Not applicable                          | \n",
       "| 3029                                    | 2011-08-15                              | Two years VET                           | Not applicable                          | \n",
       "| 3029                                    | 2012-08-15                              | Two years VET                           | Not applicable                          | \n",
       "| 3029                                    | 2013-08-15                              | Two years VET                           | Not applicable                          | \n",
       "| 3029                                    | 2014-08-15                              | Two years VET                           | Not applicable                          | \n",
       "| 3029                                    | 2015-08-15                              | Two years VET                           | Not applicable                          | \n",
       "\n",
       "\n"
      ],
      "text/plain": [
       "  vn   e_date     e_educType3                             e_gradecompletion\n",
       "1 3029 2010-08-15 Lower secondary (Extended requirements) Not applicable   \n",
       "2 3029 2011-08-15 Two years VET                           Not applicable   \n",
       "3 3029 2012-08-15 Two years VET                           Not applicable   \n",
       "4 3029 2013-08-15 Two years VET                           Not applicable   \n",
       "5 3029 2014-08-15 Two years VET                           Not applicable   \n",
       "6 3029 2015-08-15 Two years VET                           Not applicable   "
      ]
     },
     "metadata": {},
     "output_type": "display_data"
    }
   ],
   "source": [
    "sjps %>% \n",
    "  select(vn, e_date, e_educType3, e_gradecompletion) %>% \n",
    "  head() "
   ]
  },
  {
   "cell_type": "markdown",
   "metadata": {},
   "source": [
    "Just to check: how many pupils did not finish upper secondary?"
   ]
  },
  {
   "cell_type": "code",
   "execution_count": 23,
   "metadata": {
    "ExecuteTime": {
     "end_time": "2019-03-28T19:13:52.543595Z",
     "start_time": "2019-03-28T19:13:52.508Z"
    }
   },
   "outputs": [
    {
     "data": {
      "text/html": [
       "5999"
      ],
      "text/latex": [
       "5999"
      ],
      "text/markdown": [
       "5999"
      ],
      "text/plain": [
       "[1] 5999"
      ]
     },
     "metadata": {},
     "output_type": "display_data"
    }
   ],
   "source": [
    "sjps %>% \n",
    "  distinct(vn) %>% \n",
    "  nrow()"
   ]
  },
  {
   "cell_type": "markdown",
   "metadata": {},
   "source": [
    "Among them who interrupted their education? And who is still in education?"
   ]
  },
  {
   "cell_type": "code",
   "execution_count": 25,
   "metadata": {
    "ExecuteTime": {
     "end_time": "2019-03-28T19:14:32.245094Z",
     "start_time": "2019-03-28T19:14:32.002Z"
    }
   },
   "outputs": [],
   "source": [
    "stilledu <- sjps %>%\n",
    "    select(vn, e_year, e_date, e_gradecompletion, e_educType3, counter) %>%\n",
    "    group_by(vn) %>%\n",
    "    arrange(vn, e_year) %>%\n",
    "    # We select all individuals for whom the last observation was in 2016\n",
    "    mutate(test = row_number()==n() & e_year == 2016) "
   ]
  },
  {
   "cell_type": "markdown",
   "metadata": {},
   "source": [
    "Just to check: How many are still in education?"
   ]
  },
  {
   "cell_type": "code",
   "execution_count": null,
   "metadata": {
    "ExecuteTime": {
     "end_time": "2019-03-28T19:14:54.120066Z",
     "start_time": "2019-03-28T19:14:53.929Z"
    }
   },
   "outputs": [],
   "source": [
    "stilledu %>% filter(test==TRUE) %>% distinct(vn) %>% nrow()"
   ]
  },
  {
   "cell_type": "markdown",
   "metadata": {},
   "source": [
    "How many left education:"
   ]
  },
  {
   "cell_type": "code",
   "execution_count": 27,
   "metadata": {
    "ExecuteTime": {
     "end_time": "2019-03-28T19:15:26.810247Z",
     "start_time": "2019-03-28T19:15:26.421Z"
    }
   },
   "outputs": [
    {
     "data": {
      "text/html": [
       "3899"
      ],
      "text/latex": [
       "3899"
      ],
      "text/markdown": [
       "3899"
      ],
      "text/plain": [
       "[1] 3899"
      ]
     },
     "metadata": {},
     "output_type": "display_data"
    }
   ],
   "source": [
    "dropout <- sjps %>%\n",
    "    select(vn, e_year, e_date, e_gradecompletion, e_educType3, counter) %>%\n",
    "    group_by(vn) %>%\n",
    "    arrange(vn, e_year) %>%\n",
    "    mutate(test = row_number()==n() & e_year < 2016)\n",
    "\n",
    "dropout %>% filter(test==TRUE) %>% distinct(vn) %>% nrow()"
   ]
  },
  {
   "cell_type": "markdown",
   "metadata": {
    "ExecuteTime": {
     "end_time": "2019-03-28T19:15:51.402206Z",
     "start_time": "2019-03-28T19:15:51.378Z"
    }
   },
   "source": [
    "We have now two datasets:\n",
    "\n",
    "- A dataset of students who dropped out of education;\n",
    "- A dataset of students who are still in education (but did not obtain a certificte)\n",
    "\n",
    "The next step is to prepare a dataset for these two categories of students."
   ]
  },
  {
   "cell_type": "code",
   "execution_count": 29,
   "metadata": {
    "ExecuteTime": {
     "end_time": "2019-03-28T19:16:16.611206Z",
     "start_time": "2019-03-28T19:16:16.257Z"
    }
   },
   "outputs": [
    {
     "data": {
      "text/html": [
       "5999"
      ],
      "text/latex": [
       "5999"
      ],
      "text/markdown": [
       "5999"
      ],
      "text/plain": [
       "[1] 5999"
      ]
     },
     "metadata": {},
     "output_type": "display_data"
    }
   ],
   "source": [
    "se <- stilledu %>% filter(test==TRUE) %>%  # We select the last record when observed\n",
    "  select(vn, counter) %>% mutate(finalstatus = 1)\n",
    "\n",
    "dp <- dropout %>% filter(test==TRUE) %>% \n",
    "  select(vn, counter)%>% mutate(finalstatus = 0)\n",
    "\n",
    "nocert <- bind_rows(se, dp) # Gather the two dataset \n",
    "\n",
    "# to check that we have the correct number of people who did not obtained a certificate\n",
    "dim(nocert)[1]"
   ]
  },
  {
   "cell_type": "markdown",
   "metadata": {},
   "source": [
    "By using the counter we are able to join this information to the completion rate file (eq):"
   ]
  },
  {
   "cell_type": "code",
   "execution_count": 30,
   "metadata": {
    "ExecuteTime": {
     "end_time": "2019-03-28T19:16:41.785308Z",
     "start_time": "2019-03-28T19:16:41.753Z"
    }
   },
   "outputs": [],
   "source": [
    "eq1 <- eq %>% left_join(nocert, by=\"vn\") \n",
    "eq1$gen_counter <- ifelse(!is.na(eq1$counter), eq1$counter, eq1$fcert_counter)"
   ]
  },
  {
   "cell_type": "markdown",
   "metadata": {},
   "source": [
    "We can verify that everything went well by crosstabulating the two variables:"
   ]
  },
  {
   "cell_type": "code",
   "execution_count": 34,
   "metadata": {
    "ExecuteTime": {
     "end_time": "2019-03-28T19:18:13.772636Z",
     "start_time": "2019-03-28T19:18:13.642Z"
    }
   },
   "outputs": [
    {
     "data": {
      "text/plain": [
       "               \n",
       "                Left edu. < 2016 In edu. 2016  <NA>\n",
       "  Not completed             3899         2100     0\n",
       "  Completed                    0            0 72427\n",
       "  <NA>                         0            0     0"
      ]
     },
     "metadata": {},
     "output_type": "display_data"
    }
   ],
   "source": [
    "completion <- c(\"Not completed\", \"Completed\")\n",
    "finstat <- c(\"Left edu. < 2016\", \"In edu. 2016\")\n",
    "\n",
    "table(factor(eq1$cert, labels = completion),\n",
    "      factor(eq1$finalstatus, labels=finstat), useNA = \"always\")"
   ]
  },
  {
   "cell_type": "code",
   "execution_count": 35,
   "metadata": {
    "ExecuteTime": {
     "end_time": "2019-03-28T19:18:38.763049Z",
     "start_time": "2019-03-28T19:18:38.582Z"
    }
   },
   "outputs": [
    {
     "data": {
      "text/plain": [
       "                  \n",
       "                   Not completed Completed\n",
       "  Left edu. < 2016          3899         0\n",
       "  In edu. 2016              2100         0\n",
       "  Completed                    0     72427"
      ]
     },
     "metadata": {},
     "output_type": "display_data"
    }
   ],
   "source": [
    "cert_det <- c(\"Left edu. < 2016\", \"In edu. 2016\", \"Completed\")\n",
    "# if finalstatus == 0 (drop-out) and cert == 0 (Nocertificate) --> 0\n",
    "eq1$cert_det <- ifelse(eq1$cert == 0 & eq1$finalstatus == 0, 0, \n",
    "                       # if finalstatus == 1 (in Edu) and cert == 0 (Nocertificate) --> 1\n",
    "                       ifelse(eq1$cert == 0 & eq1$finalstatus == 1, 1,\n",
    "                              # if cert == 1 (Certificate obtained) --> 2\n",
    "                              ifelse(eq1$cert == 1, 2, 9999 # Trash code to detect errors\n",
    "                                     )\n",
    "                              )\n",
    "                       )\n",
    "\n",
    "# Assign labels to the variable:\n",
    "eq1$cert_det <- factor(eq1$cert_det, labels = cert_det)\n",
    "\n",
    "# Just a tabulation:\n",
    "table(eq1$cert_det, factor(eq1$cert, labels = completion)) "
   ]
  },
  {
   "cell_type": "markdown",
   "metadata": {},
   "source": [
    "We now have a more complete information on the paths in upper secondary education:"
   ]
  },
  {
   "cell_type": "code",
   "execution_count": 36,
   "metadata": {
    "ExecuteTime": {
     "end_time": "2019-03-28T19:19:08.018908Z",
     "start_time": "2019-03-28T19:19:07.970Z"
    }
   },
   "outputs": [
    {
     "data": {
      "text/html": [
       "<table>\n",
       "<thead><tr><th></th><th scope=col>Left.edu....2016</th><th scope=col>In.edu..2016</th><th scope=col>Completed</th><th scope=col>Left.edu....2016</th><th scope=col>In.edu..2016</th><th scope=col>Completed</th><th scope=col>Sum</th></tr></thead>\n",
       "<tbody>\n",
       "\t<tr><th scope=row>Two years VET</th><td> 418 </td><td>  69 </td><td> 3028</td><td>11.89</td><td>1.96 </td><td>86.15</td><td>100  </td></tr>\n",
       "\t<tr><th scope=row>Three years VET</th><td>2375 </td><td> 961 </td><td>34611</td><td> 6.26</td><td>2.53 </td><td>91.21</td><td>100  </td></tr>\n",
       "\t<tr><th scope=row>Four years VET</th><td> 614 </td><td> 462 </td><td>12484</td><td> 4.53</td><td>3.41 </td><td>92.06</td><td>100  </td></tr>\n",
       "\t<tr><th scope=row>Specialized schools</th><td> 151 </td><td> 231 </td><td> 3259</td><td> 4.15</td><td>6.34 </td><td>89.51</td><td>100  </td></tr>\n",
       "\t<tr><th scope=row>Baccalaureate schools</th><td> 341 </td><td> 377 </td><td>19045</td><td> 1.73</td><td>1.91 </td><td>96.37</td><td>100  </td></tr>\n",
       "\t<tr><th scope=row>Sum</th><td>3899 </td><td>2100 </td><td>72427</td><td> 4.97</td><td>2.68 </td><td>92.35</td><td>100  </td></tr>\n",
       "</tbody>\n",
       "</table>\n"
      ],
      "text/latex": [
       "\\begin{tabular}{r|lllllll}\n",
       "  & Left.edu....2016 & In.edu..2016 & Completed & Left.edu....2016 & In.edu..2016 & Completed & Sum\\\\\n",
       "\\hline\n",
       "\tTwo years VET &  418  &   69  &  3028 & 11.89 & 1.96  & 86.15 & 100  \\\\\n",
       "\tThree years VET & 2375  &  961  & 34611 &  6.26 & 2.53  & 91.21 & 100  \\\\\n",
       "\tFour years VET &  614  &  462  & 12484 &  4.53 & 3.41  & 92.06 & 100  \\\\\n",
       "\tSpecialized schools &  151  &  231  &  3259 &  4.15 & 6.34  & 89.51 & 100  \\\\\n",
       "\tBaccalaureate schools &  341  &  377  & 19045 &  1.73 & 1.91  & 96.37 & 100  \\\\\n",
       "\tSum & 3899  & 2100  & 72427 &  4.97 & 2.68  & 92.35 & 100  \\\\\n",
       "\\end{tabular}\n"
      ],
      "text/markdown": [
       "\n",
       "| <!--/--> | Left.edu....2016 | In.edu..2016 | Completed | Left.edu....2016 | In.edu..2016 | Completed | Sum | \n",
       "|---|---|---|---|---|---|\n",
       "| Two years VET |  418  |   69  |  3028 | 11.89 | 1.96  | 86.15 | 100   | \n",
       "| Three years VET | 2375  |  961  | 34611 |  6.26 | 2.53  | 91.21 | 100   | \n",
       "| Four years VET |  614  |  462  | 12484 |  4.53 | 3.41  | 92.06 | 100   | \n",
       "| Specialized schools |  151  |  231  |  3259 |  4.15 | 6.34  | 89.51 | 100   | \n",
       "| Baccalaureate schools |  341  |  377  | 19045 |  1.73 | 1.91  | 96.37 | 100   | \n",
       "| Sum | 3899  | 2100  | 72427 |  4.97 | 2.68  | 92.35 | 100   | \n",
       "\n",
       "\n"
      ],
      "text/plain": [
       "                      Left.edu....2016 In.edu..2016 Completed Left.edu....2016\n",
       "Two years VET          418               69          3028     11.89           \n",
       "Three years VET       2375              961         34611      6.26           \n",
       "Four years VET         614              462         12484      4.53           \n",
       "Specialized schools    151              231          3259      4.15           \n",
       "Baccalaureate schools  341              377         19045      1.73           \n",
       "Sum                   3899             2100         72427      4.97           \n",
       "                      In.edu..2016 Completed Sum\n",
       "Two years VET         1.96         86.15     100\n",
       "Three years VET       2.53         91.21     100\n",
       "Four years VET        3.41         92.06     100\n",
       "Specialized schools   6.34         89.51     100\n",
       "Baccalaureate schools 1.91         96.37     100\n",
       "Sum                   2.68         92.35     100"
      ]
     },
     "metadata": {},
     "output_type": "display_data"
    }
   ],
   "source": [
    "eqcomple <- addmargins(table(factor(eq1$fsii_e_eductype3),eq1$cert_det), 1)\n",
    "\n",
    "eqcab <- eqcomple %>%\n",
    "  unclass() %>%\n",
    "  data.frame() \n",
    "\n",
    "eqcpr <- round(addmargins(prop.table(eqcomple, 1)*100, 2), 2) %>%\n",
    "  unclass() %>%\n",
    "  data.frame()\n",
    "\n",
    "cbind(eqcab, eqcpr) "
   ]
  },
  {
   "cell_type": "code",
   "execution_count": 37,
   "metadata": {
    "ExecuteTime": {
     "end_time": "2019-03-28T19:19:20.569024Z",
     "start_time": "2019-03-28T19:19:20.325Z"
    }
   },
   "outputs": [],
   "source": [
    "saveRDS(eq1, file = \"erfolg_quote.rds\")"
   ]
  },
  {
   "cell_type": "markdown",
   "metadata": {},
   "source": [
    "# Other sequence mining"
   ]
  },
  {
   "cell_type": "markdown",
   "metadata": {},
   "source": [
    "How many records per individual?"
   ]
  },
  {
   "cell_type": "code",
   "execution_count": 38,
   "metadata": {
    "ExecuteTime": {
     "end_time": "2019-03-28T19:20:01.295076Z",
     "start_time": "2019-03-28T19:20:01.131Z"
    }
   },
   "outputs": [
    {
     "data": {
      "text/html": [
       "<table>\n",
       "<thead><tr><th scope=col>vn</th><th scope=col>e_date</th><th scope=col>e_gradecompletion</th><th scope=col>e_educType3</th><th scope=col>e_educYear</th><th scope=col>number</th></tr></thead>\n",
       "<tbody>\n",
       "\t<tr><td>1                                      </td><td>2011-08-15                             </td><td>Not applicable                         </td><td>Two years VET                          </td><td>First year                             </td><td>3                                      </td></tr>\n",
       "\t<tr><td>1                                      </td><td>2012-08-15                             </td><td>Not applicable                         </td><td>Two years VET                          </td><td>Second year                            </td><td>3                                      </td></tr>\n",
       "\t<tr><td>1                                      </td><td>2013-06-30                             </td><td>Completed                              </td><td>Two years VET                          </td><td>Not applicable                         </td><td>3                                      </td></tr>\n",
       "\t<tr><td>2                                      </td><td>2010-08-15                             </td><td>Not applicable                         </td><td>Lower secondary (Extended requirements)</td><td>11th year HarmoS                       </td><td>4                                      </td></tr>\n",
       "\t<tr><td>2                                      </td><td>2011-08-15                             </td><td>Not applicable                         </td><td>Two years VET                          </td><td>First year                             </td><td>4                                      </td></tr>\n",
       "\t<tr><td>2                                      </td><td>2012-08-15                             </td><td>Not applicable                         </td><td>Two years VET                          </td><td>Second year                            </td><td>4                                      </td></tr>\n",
       "\t<tr><td>2                                      </td><td>2013-06-30                             </td><td>Completed                              </td><td>Two years VET                          </td><td>Not applicable                         </td><td>4                                      </td></tr>\n",
       "\t<tr><td>3                                      </td><td>2010-08-15                             </td><td>Not applicable                         </td><td>Lower secondary (Extended requirements)</td><td>11th year HarmoS                       </td><td>4                                      </td></tr>\n",
       "\t<tr><td>3                                      </td><td>2011-08-15                             </td><td>Not applicable                         </td><td>Two years VET                          </td><td>First year                             </td><td>4                                      </td></tr>\n",
       "\t<tr><td>3                                      </td><td>2012-08-15                             </td><td>Not applicable                         </td><td>Two years VET                          </td><td>Second year                            </td><td>4                                      </td></tr>\n",
       "</tbody>\n",
       "</table>\n"
      ],
      "text/latex": [
       "\\begin{tabular}{r|llllll}\n",
       " vn & e\\_date & e\\_gradecompletion & e\\_educType3 & e\\_educYear & number\\\\\n",
       "\\hline\n",
       "\t 1                                       & 2011-08-15                              & Not applicable                          & Two years VET                           & First year                              & 3                                      \\\\\n",
       "\t 1                                       & 2012-08-15                              & Not applicable                          & Two years VET                           & Second year                             & 3                                      \\\\\n",
       "\t 1                                       & 2013-06-30                              & Completed                               & Two years VET                           & Not applicable                          & 3                                      \\\\\n",
       "\t 2                                       & 2010-08-15                              & Not applicable                          & Lower secondary (Extended requirements) & 11th year HarmoS                        & 4                                      \\\\\n",
       "\t 2                                       & 2011-08-15                              & Not applicable                          & Two years VET                           & First year                              & 4                                      \\\\\n",
       "\t 2                                       & 2012-08-15                              & Not applicable                          & Two years VET                           & Second year                             & 4                                      \\\\\n",
       "\t 2                                       & 2013-06-30                              & Completed                               & Two years VET                           & Not applicable                          & 4                                      \\\\\n",
       "\t 3                                       & 2010-08-15                              & Not applicable                          & Lower secondary (Extended requirements) & 11th year HarmoS                        & 4                                      \\\\\n",
       "\t 3                                       & 2011-08-15                              & Not applicable                          & Two years VET                           & First year                              & 4                                      \\\\\n",
       "\t 3                                       & 2012-08-15                              & Not applicable                          & Two years VET                           & Second year                             & 4                                      \\\\\n",
       "\\end{tabular}\n"
      ],
      "text/markdown": [
       "\n",
       "vn | e_date | e_gradecompletion | e_educType3 | e_educYear | number | \n",
       "|---|---|---|---|---|---|---|---|---|---|\n",
       "| 1                                       | 2011-08-15                              | Not applicable                          | Two years VET                           | First year                              | 3                                       | \n",
       "| 1                                       | 2012-08-15                              | Not applicable                          | Two years VET                           | Second year                             | 3                                       | \n",
       "| 1                                       | 2013-06-30                              | Completed                               | Two years VET                           | Not applicable                          | 3                                       | \n",
       "| 2                                       | 2010-08-15                              | Not applicable                          | Lower secondary (Extended requirements) | 11th year HarmoS                        | 4                                       | \n",
       "| 2                                       | 2011-08-15                              | Not applicable                          | Two years VET                           | First year                              | 4                                       | \n",
       "| 2                                       | 2012-08-15                              | Not applicable                          | Two years VET                           | Second year                             | 4                                       | \n",
       "| 2                                       | 2013-06-30                              | Completed                               | Two years VET                           | Not applicable                          | 4                                       | \n",
       "| 3                                       | 2010-08-15                              | Not applicable                          | Lower secondary (Extended requirements) | 11th year HarmoS                        | 4                                       | \n",
       "| 3                                       | 2011-08-15                              | Not applicable                          | Two years VET                           | First year                              | 4                                       | \n",
       "| 3                                       | 2012-08-15                              | Not applicable                          | Two years VET                           | Second year                             | 4                                       | \n",
       "\n",
       "\n"
      ],
      "text/plain": [
       "   vn e_date     e_gradecompletion e_educType3                            \n",
       "1  1  2011-08-15 Not applicable    Two years VET                          \n",
       "2  1  2012-08-15 Not applicable    Two years VET                          \n",
       "3  1  2013-06-30 Completed         Two years VET                          \n",
       "4  2  2010-08-15 Not applicable    Lower secondary (Extended requirements)\n",
       "5  2  2011-08-15 Not applicable    Two years VET                          \n",
       "6  2  2012-08-15 Not applicable    Two years VET                          \n",
       "7  2  2013-06-30 Completed         Two years VET                          \n",
       "8  3  2010-08-15 Not applicable    Lower secondary (Extended requirements)\n",
       "9  3  2011-08-15 Not applicable    Two years VET                          \n",
       "10 3  2012-08-15 Not applicable    Two years VET                          \n",
       "   e_educYear       number\n",
       "1  First year       3     \n",
       "2  Second year      3     \n",
       "3  Not applicable   3     \n",
       "4  11th year HarmoS 4     \n",
       "5  First year       4     \n",
       "6  Second year      4     \n",
       "7  Not applicable   4     \n",
       "8  11th year HarmoS 4     \n",
       "9  First year       4     \n",
       "10 Second year      4     "
      ]
     },
     "metadata": {},
     "output_type": "display_data"
    }
   ],
   "source": [
    "dd <- d %>% \n",
    "  group_by(vn) %>%\n",
    "  mutate(number = n()) %>%\n",
    "  select(vn, e_date, e_gradecompletion, e_educType3, e_educYear, number)\n",
    "\n",
    "head(dd, n = 10) "
   ]
  },
  {
   "cell_type": "markdown",
   "metadata": {
    "ExecuteTime": {
     "end_time": "2019-03-28T19:20:27.124599Z",
     "start_time": "2019-03-28T19:20:27.100Z"
    }
   },
   "source": [
    "You can self join the long file with himself in order to find the sequences of students who reoriented, repeated or exited education:"
   ]
  },
  {
   "cell_type": "code",
   "execution_count": 40,
   "metadata": {
    "ExecuteTime": {
     "end_time": "2019-03-28T19:20:44.082124Z",
     "start_time": "2019-03-28T19:20:41.877Z"
    }
   },
   "outputs": [
    {
     "data": {
      "text/html": [
       "<table>\n",
       "<thead><tr><th scope=col>vn</th><th scope=col>e_date</th><th scope=col>Count_rw</th></tr></thead>\n",
       "<tbody>\n",
       "\t<tr><td>1         </td><td>2011-08-15</td><td>1         </td></tr>\n",
       "\t<tr><td>1         </td><td>2012-08-15</td><td>2         </td></tr>\n",
       "\t<tr><td>1         </td><td>2013-06-30</td><td>3         </td></tr>\n",
       "\t<tr><td>2         </td><td>2010-08-15</td><td>1         </td></tr>\n",
       "\t<tr><td>2         </td><td>2011-08-15</td><td>2         </td></tr>\n",
       "\t<tr><td>2         </td><td>2012-08-15</td><td>3         </td></tr>\n",
       "</tbody>\n",
       "</table>\n"
      ],
      "text/latex": [
       "\\begin{tabular}{r|lll}\n",
       " vn & e\\_date & Count\\_rw\\\\\n",
       "\\hline\n",
       "\t 1          & 2011-08-15 & 1         \\\\\n",
       "\t 1          & 2012-08-15 & 2         \\\\\n",
       "\t 1          & 2013-06-30 & 3         \\\\\n",
       "\t 2          & 2010-08-15 & 1         \\\\\n",
       "\t 2          & 2011-08-15 & 2         \\\\\n",
       "\t 2          & 2012-08-15 & 3         \\\\\n",
       "\\end{tabular}\n"
      ],
      "text/markdown": [
       "\n",
       "vn | e_date | Count_rw | \n",
       "|---|---|---|---|---|---|\n",
       "| 1          | 2011-08-15 | 1          | \n",
       "| 1          | 2012-08-15 | 2          | \n",
       "| 1          | 2013-06-30 | 3          | \n",
       "| 2          | 2010-08-15 | 1          | \n",
       "| 2          | 2011-08-15 | 2          | \n",
       "| 2          | 2012-08-15 | 3          | \n",
       "\n",
       "\n"
      ],
      "text/plain": [
       "  vn e_date     Count_rw\n",
       "1 1  2011-08-15 1       \n",
       "2 1  2012-08-15 2       \n",
       "3 1  2013-06-30 3       \n",
       "4 2  2010-08-15 1       \n",
       "5 2  2011-08-15 2       \n",
       "6 2  2012-08-15 3       "
      ]
     },
     "metadata": {},
     "output_type": "display_data"
    }
   ],
   "source": [
    "dat_1 <- dat %>%\n",
    "          arrange(vn, e_date) %>%\n",
    "          group_by(vn) %>%\n",
    "          mutate(Count_rw = 1:n())\n",
    "\n",
    "# Generate an internal counter for the record:\n",
    "head(dat_1[, c(\"vn\", \"e_date\", \"Count_rw\")])"
   ]
  },
  {
   "cell_type": "code",
   "execution_count": 41,
   "metadata": {
    "ExecuteTime": {
     "end_time": "2019-03-28T19:22:41.888896Z",
     "start_time": "2019-03-28T19:22:38.837Z"
    }
   },
   "outputs": [
    {
     "data": {
      "text/html": [
       "<table>\n",
       "<thead><tr><th scope=col>vn</th><th scope=col>e_year</th><th scope=col>e_gradecompletion</th><th scope=col>e_educType3</th><th scope=col>Count_s</th><th scope=col>e_year_b</th><th scope=col>e_educType3_b</th><th scope=col>e_educYear_b</th><th scope=col>Count_t</th></tr></thead>\n",
       "<tbody>\n",
       "\t<tr><td>1                                      </td><td>2011                                   </td><td>Not applicable                         </td><td>Two years VET                          </td><td>1                                      </td><td>2012                                   </td><td>Two years VET                          </td><td>Second year                            </td><td> 2                                     </td></tr>\n",
       "\t<tr><td>1                                      </td><td>2012                                   </td><td>Not applicable                         </td><td>Two years VET                          </td><td>2                                      </td><td>2013                                   </td><td>Two years VET                          </td><td>Not applicable                         </td><td> 3                                     </td></tr>\n",
       "\t<tr><td>1                                      </td><td>2013                                   </td><td>Completed                              </td><td>Two years VET                          </td><td>3                                      </td><td>  NA                                   </td><td>NA                                     </td><td>NA                                     </td><td>NA                                     </td></tr>\n",
       "\t<tr><td>2                                      </td><td>2010                                   </td><td>Not applicable                         </td><td>Lower secondary (Extended requirements)</td><td>1                                      </td><td>2011                                   </td><td>Two years VET                          </td><td>First year                             </td><td> 2                                     </td></tr>\n",
       "\t<tr><td>2                                      </td><td>2011                                   </td><td>Not applicable                         </td><td>Two years VET                          </td><td>2                                      </td><td>2012                                   </td><td>Two years VET                          </td><td>Second year                            </td><td> 3                                     </td></tr>\n",
       "\t<tr><td>2                                      </td><td>2012                                   </td><td>Not applicable                         </td><td>Two years VET                          </td><td>3                                      </td><td>2013                                   </td><td>Two years VET                          </td><td>Not applicable                         </td><td> 4                                     </td></tr>\n",
       "</tbody>\n",
       "</table>\n"
      ],
      "text/latex": [
       "\\begin{tabular}{r|lllllllll}\n",
       " vn & e\\_year & e\\_gradecompletion & e\\_educType3 & Count\\_s & e\\_year\\_b & e\\_educType3\\_b & e\\_educYear\\_b & Count\\_t\\\\\n",
       "\\hline\n",
       "\t 1                                       & 2011                                    & Not applicable                          & Two years VET                           & 1                                       & 2012                                    & Two years VET                           & Second year                             &  2                                     \\\\\n",
       "\t 1                                       & 2012                                    & Not applicable                          & Two years VET                           & 2                                       & 2013                                    & Two years VET                           & Not applicable                          &  3                                     \\\\\n",
       "\t 1                                       & 2013                                    & Completed                               & Two years VET                           & 3                                       &   NA                                    & NA                                      & NA                                      & NA                                     \\\\\n",
       "\t 2                                       & 2010                                    & Not applicable                          & Lower secondary (Extended requirements) & 1                                       & 2011                                    & Two years VET                           & First year                              &  2                                     \\\\\n",
       "\t 2                                       & 2011                                    & Not applicable                          & Two years VET                           & 2                                       & 2012                                    & Two years VET                           & Second year                             &  3                                     \\\\\n",
       "\t 2                                       & 2012                                    & Not applicable                          & Two years VET                           & 3                                       & 2013                                    & Two years VET                           & Not applicable                          &  4                                     \\\\\n",
       "\\end{tabular}\n"
      ],
      "text/markdown": [
       "\n",
       "vn | e_year | e_gradecompletion | e_educType3 | Count_s | e_year_b | e_educType3_b | e_educYear_b | Count_t | \n",
       "|---|---|---|---|---|---|\n",
       "| 1                                       | 2011                                    | Not applicable                          | Two years VET                           | 1                                       | 2012                                    | Two years VET                           | Second year                             |  2                                      | \n",
       "| 1                                       | 2012                                    | Not applicable                          | Two years VET                           | 2                                       | 2013                                    | Two years VET                           | Not applicable                          |  3                                      | \n",
       "| 1                                       | 2013                                    | Completed                               | Two years VET                           | 3                                       |   NA                                    | NA                                      | NA                                      | NA                                      | \n",
       "| 2                                       | 2010                                    | Not applicable                          | Lower secondary (Extended requirements) | 1                                       | 2011                                    | Two years VET                           | First year                              |  2                                      | \n",
       "| 2                                       | 2011                                    | Not applicable                          | Two years VET                           | 2                                       | 2012                                    | Two years VET                           | Second year                             |  3                                      | \n",
       "| 2                                       | 2012                                    | Not applicable                          | Two years VET                           | 3                                       | 2013                                    | Two years VET                           | Not applicable                          |  4                                      | \n",
       "\n",
       "\n"
      ],
      "text/plain": [
       "  vn e_year e_gradecompletion e_educType3                             Count_s\n",
       "1 1  2011   Not applicable    Two years VET                           1      \n",
       "2 1  2012   Not applicable    Two years VET                           2      \n",
       "3 1  2013   Completed         Two years VET                           3      \n",
       "4 2  2010   Not applicable    Lower secondary (Extended requirements) 1      \n",
       "5 2  2011   Not applicable    Two years VET                           2      \n",
       "6 2  2012   Not applicable    Two years VET                           3      \n",
       "  e_year_b e_educType3_b e_educYear_b   Count_t\n",
       "1 2012     Two years VET Second year     2     \n",
       "2 2013     Two years VET Not applicable  3     \n",
       "3   NA     NA            NA             NA     \n",
       "4 2011     Two years VET First year      2     \n",
       "5 2012     Two years VET Second year     3     \n",
       "6 2013     Two years VET Not applicable  4     "
      ]
     },
     "metadata": {},
     "output_type": "display_data"
    }
   ],
   "source": [
    "dat_2 <- sqldf(\n",
    "            \"SELECT s.vn, s.e_year, s.e_gradecompletion, s.e_educType3,s.Count_rw AS Count_s,\n",
    "              t.e_year AS e_year_b, t.e_educType3 AS e_educType3_b, t.e_educYear AS e_educYear_b, \n",
    "              t.Count_rw AS Count_t\n",
    "              FROM dat_1 AS s LEFT JOIN dat_1 AS t\n",
    "              ON s.vn = t.vn AND \n",
    "              t.Count_rw - s.Count_rw == 1\"\n",
    "            ) \n",
    "\n",
    "head(dat_2) "
   ]
  },
  {
   "cell_type": "code",
   "execution_count": 42,
   "metadata": {
    "ExecuteTime": {
     "end_time": "2019-03-28T19:23:01.585443Z",
     "start_time": "2019-03-28T19:22:59.654Z"
    }
   },
   "outputs": [
    {
     "data": {
      "text/html": [
       "<table>\n",
       "<thead><tr><th scope=col>vn</th><th scope=col>e_date</th><th scope=col>e_year</th><th scope=col>e_gradecompletion</th><th scope=col>e_educYear</th><th scope=col>e_educType3</th></tr></thead>\n",
       "<tbody>\n",
       "\t<tr><td>2850                                   </td><td>2010-08-15                             </td><td>2010                                   </td><td>Not applicable                         </td><td>Undefined                              </td><td>Special needs education                </td></tr>\n",
       "\t<tr><td>2850                                   </td><td>2011-08-15                             </td><td>2011                                   </td><td>Not applicable                         </td><td>First year                             </td><td>Two years VET                          </td></tr>\n",
       "\t<tr><td>2850                                   </td><td>2013-08-15                             </td><td>2013                                   </td><td>Not applicable                         </td><td>Third year                             </td><td>Two years VET                          </td></tr>\n",
       "\t<tr><td>2850                                   </td><td>2014-06-30                             </td><td>2014                                   </td><td>Completed                              </td><td>Not applicable                         </td><td>Two years VET                          </td></tr>\n",
       "\t<tr><td>2851                                   </td><td>2010-08-15                             </td><td>2010                                   </td><td>Not applicable                         </td><td>First year                             </td><td>Transitional options                   </td></tr>\n",
       "\t<tr><td>2851                                   </td><td>2011-08-15                             </td><td>2011                                   </td><td>Not applicable                         </td><td>First year                             </td><td>Two years VET                          </td></tr>\n",
       "\t<tr><td>2851                                   </td><td>2014-06-30                             </td><td>2014                                   </td><td>Completed                              </td><td>Not applicable                         </td><td>Two years VET                          </td></tr>\n",
       "\t<tr><td>2852                                   </td><td>2010-08-15                             </td><td>2010                                   </td><td>Not applicable                         </td><td>11th year HarmoS                       </td><td>Lower secondary (Extended requirements)</td></tr>\n",
       "\t<tr><td>2852                                   </td><td>2011-08-15                             </td><td>2011                                   </td><td>Not applicable                         </td><td>First year                             </td><td>Two years VET                          </td></tr>\n",
       "\t<tr><td>2852                                   </td><td>2012-08-15                             </td><td>2012                                   </td><td>Not applicable                         </td><td>Second year                            </td><td>Two years VET                          </td></tr>\n",
       "</tbody>\n",
       "</table>\n"
      ],
      "text/latex": [
       "\\begin{tabular}{r|llllll}\n",
       " vn & e\\_date & e\\_year & e\\_gradecompletion & e\\_educYear & e\\_educType3\\\\\n",
       "\\hline\n",
       "\t 2850                                    & 2010-08-15                              & 2010                                    & Not applicable                          & Undefined                               & Special needs education                \\\\\n",
       "\t 2850                                    & 2011-08-15                              & 2011                                    & Not applicable                          & First year                              & Two years VET                          \\\\\n",
       "\t 2850                                    & 2013-08-15                              & 2013                                    & Not applicable                          & Third year                              & Two years VET                          \\\\\n",
       "\t 2850                                    & 2014-06-30                              & 2014                                    & Completed                               & Not applicable                          & Two years VET                          \\\\\n",
       "\t 2851                                    & 2010-08-15                              & 2010                                    & Not applicable                          & First year                              & Transitional options                   \\\\\n",
       "\t 2851                                    & 2011-08-15                              & 2011                                    & Not applicable                          & First year                              & Two years VET                          \\\\\n",
       "\t 2851                                    & 2014-06-30                              & 2014                                    & Completed                               & Not applicable                          & Two years VET                          \\\\\n",
       "\t 2852                                    & 2010-08-15                              & 2010                                    & Not applicable                          & 11th year HarmoS                        & Lower secondary (Extended requirements)\\\\\n",
       "\t 2852                                    & 2011-08-15                              & 2011                                    & Not applicable                          & First year                              & Two years VET                          \\\\\n",
       "\t 2852                                    & 2012-08-15                              & 2012                                    & Not applicable                          & Second year                             & Two years VET                          \\\\\n",
       "\\end{tabular}\n"
      ],
      "text/markdown": [
       "\n",
       "vn | e_date | e_year | e_gradecompletion | e_educYear | e_educType3 | \n",
       "|---|---|---|---|---|---|---|---|---|---|\n",
       "| 2850                                    | 2010-08-15                              | 2010                                    | Not applicable                          | Undefined                               | Special needs education                 | \n",
       "| 2850                                    | 2011-08-15                              | 2011                                    | Not applicable                          | First year                              | Two years VET                           | \n",
       "| 2850                                    | 2013-08-15                              | 2013                                    | Not applicable                          | Third year                              | Two years VET                           | \n",
       "| 2850                                    | 2014-06-30                              | 2014                                    | Completed                               | Not applicable                          | Two years VET                           | \n",
       "| 2851                                    | 2010-08-15                              | 2010                                    | Not applicable                          | First year                              | Transitional options                    | \n",
       "| 2851                                    | 2011-08-15                              | 2011                                    | Not applicable                          | First year                              | Two years VET                           | \n",
       "| 2851                                    | 2014-06-30                              | 2014                                    | Completed                               | Not applicable                          | Two years VET                           | \n",
       "| 2852                                    | 2010-08-15                              | 2010                                    | Not applicable                          | 11th year HarmoS                        | Lower secondary (Extended requirements) | \n",
       "| 2852                                    | 2011-08-15                              | 2011                                    | Not applicable                          | First year                              | Two years VET                           | \n",
       "| 2852                                    | 2012-08-15                              | 2012                                    | Not applicable                          | Second year                             | Two years VET                           | \n",
       "\n",
       "\n"
      ],
      "text/plain": [
       "   vn   e_date     e_year e_gradecompletion e_educYear      \n",
       "1  2850 2010-08-15 2010   Not applicable    Undefined       \n",
       "2  2850 2011-08-15 2011   Not applicable    First year      \n",
       "3  2850 2013-08-15 2013   Not applicable    Third year      \n",
       "4  2850 2014-06-30 2014   Completed         Not applicable  \n",
       "5  2851 2010-08-15 2010   Not applicable    First year      \n",
       "6  2851 2011-08-15 2011   Not applicable    First year      \n",
       "7  2851 2014-06-30 2014   Completed         Not applicable  \n",
       "8  2852 2010-08-15 2010   Not applicable    11th year HarmoS\n",
       "9  2852 2011-08-15 2011   Not applicable    First year      \n",
       "10 2852 2012-08-15 2012   Not applicable    Second year     \n",
       "   e_educType3                            \n",
       "1  Special needs education                \n",
       "2  Two years VET                          \n",
       "3  Two years VET                          \n",
       "4  Two years VET                          \n",
       "5  Transitional options                   \n",
       "6  Two years VET                          \n",
       "7  Two years VET                          \n",
       "8  Lower secondary (Extended requirements)\n",
       "9  Two years VET                          \n",
       "10 Two years VET                          "
      ]
     },
     "metadata": {},
     "output_type": "display_data"
    }
   ],
   "source": [
    "dout <- sqldf(\n",
    "            \"SELECT s.vn, s.e_date, s.e_year, s.e_gradecompletion, s.e_educYear, s.e_educType3 FROM dat AS s\n",
    "                WHERE vn IN (SELECT vn FROM dat_2 WHERE e_year_b - e_year > 1) \n",
    "                ORDER BY vn, e_date\"\n",
    "            )\n",
    "\n",
    "head(dout, n = 10)"
   ]
  }
 ],
 "metadata": {
  "kernelspec": {
   "display_name": "R",
   "language": "R",
   "name": "ir"
  },
  "language_info": {
   "codemirror_mode": "r",
   "file_extension": ".r",
   "mimetype": "text/x-r-source",
   "name": "R",
   "pygments_lexer": "r",
   "version": "3.5.3"
  }
 },
 "nbformat": 4,
 "nbformat_minor": 2
}
